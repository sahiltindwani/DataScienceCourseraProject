{
    "cells": [
        {
            "cell_type": "markdown",
            "metadata": {
                "collapsed": true
            },
            "source": "# The road severity"
        },
        {
            "cell_type": "markdown",
            "metadata": {},
            "source": "### A supervised machine learning model to predict the severity of the accident.\n"
        },
        {
            "cell_type": "code",
            "execution_count": null,
            "metadata": {},
            "outputs": [],
            "source": "#importing libraries.\nimport pandas as pd\nimport numpy as np"
        },
        {
            "cell_type": "code",
            "execution_count": null,
            "metadata": {},
            "outputs": [],
            "source": "print('Hello Capstone Project Course')"
        },
        {
            "cell_type": "markdown",
            "metadata": {},
            "source": "### Importing data from CSV file.\n"
        },
        {
            "cell_type": "code",
            "execution_count": 53,
            "metadata": {},
            "outputs": [
                {
                    "name": "stdout",
                    "output_type": "stream",
                    "text": "--2020-09-11 12:05:54--  https://s3.us.cloud-object-storage.appdomain.cloud/cf-courses-data/CognitiveClass/DP0701EN/version-2/Data-Collisions.csv\nResolving s3.us.cloud-object-storage.appdomain.cloud (s3.us.cloud-object-storage.appdomain.cloud)... 67.228.254.196\nConnecting to s3.us.cloud-object-storage.appdomain.cloud (s3.us.cloud-object-storage.appdomain.cloud)|67.228.254.196|:443... connected.\nHTTP request sent, awaiting response... 200 OK\nLength: 73917638 (70M) [text/csv]\nSaving to: \u2018loan_train.csv\u2019\n\n100%[======================================>] 73,917,638  1.24MB/s   in 34s    \n\n2020-09-11 12:06:30 (2.06 MB/s) - \u2018loan_train.csv\u2019 saved [73917638/73917638]\n\n"
                }
            ],
            "source": "!wget -O loan_train.csv https://s3.us.cloud-object-storage.appdomain.cloud/cf-courses-data/CognitiveClass/DP0701EN/version-2/Data-Collisions.csv"
        },
        {
            "cell_type": "code",
            "execution_count": null,
            "metadata": {},
            "outputs": [],
            "source": "df = pd.read_csv('loan_train.csv')\ndf.head()"
        },
        {
            "cell_type": "code",
            "execution_count": 54,
            "metadata": {},
            "outputs": [
                {
                    "data": {
                        "text/plain": "Index(['SEVERITYCODE', 'X', 'Y', 'OBJECTID', 'INCKEY', 'COLDETKEY', 'REPORTNO',\n       'STATUS', 'ADDRTYPE', 'INTKEY', 'LOCATION', 'EXCEPTRSNCODE',\n       'EXCEPTRSNDESC', 'SEVERITYCODE.1', 'SEVERITYDESC', 'COLLISIONTYPE',\n       'PERSONCOUNT', 'PEDCOUNT', 'PEDCYLCOUNT', 'VEHCOUNT', 'INCDATE',\n       'INCDTTM', 'JUNCTIONTYPE', 'SDOT_COLCODE', 'SDOT_COLDESC',\n       'INATTENTIONIND', 'UNDERINFL', 'WEATHER', 'ROADCOND', 'LIGHTCOND',\n       'PEDROWNOTGRNT', 'SDOTCOLNUM', 'SPEEDING', 'ST_COLCODE', 'ST_COLDESC',\n       'SEGLANEKEY', 'CROSSWALKKEY', 'HITPARKEDCAR'],\n      dtype='object')"
                    },
                    "execution_count": 54,
                    "metadata": {},
                    "output_type": "execute_result"
                }
            ],
            "source": "df.columns"
        },
        {
            "cell_type": "code",
            "execution_count": 55,
            "metadata": {},
            "outputs": [
                {
                    "data": {
                        "text/plain": "array(['SEVERITYCODE', 'X', 'Y', 'OBJECTID', 'INCKEY', 'COLDETKEY',\n       'REPORTNO', 'STATUS', 'ADDRTYPE', 'INTKEY', 'LOCATION',\n       'EXCEPTRSNCODE', 'EXCEPTRSNDESC', 'SEVERITYCODE.1', 'SEVERITYDESC',\n       'COLLISIONTYPE', 'PERSONCOUNT', 'PEDCOUNT', 'PEDCYLCOUNT',\n       'VEHCOUNT', 'INCDATE', 'INCDTTM', 'JUNCTIONTYPE', 'SDOT_COLCODE',\n       'SDOT_COLDESC', 'INATTENTIONIND', 'UNDERINFL', 'WEATHER',\n       'ROADCOND', 'LIGHTCOND', 'PEDROWNOTGRNT', 'SDOTCOLNUM', 'SPEEDING',\n       'ST_COLCODE', 'ST_COLDESC', 'SEGLANEKEY', 'CROSSWALKKEY',\n       'HITPARKEDCAR'], dtype=object)"
                    },
                    "execution_count": 55,
                    "metadata": {},
                    "output_type": "execute_result"
                }
            ],
            "source": "df.columns.values\n"
        },
        {
            "cell_type": "markdown",
            "metadata": {},
            "source": "## Cleaning of data"
        },
        {
            "cell_type": "markdown",
            "metadata": {},
            "source": "### Now we drop the unwanted columns \n"
        },
        {
            "cell_type": "code",
            "execution_count": 56,
            "metadata": {},
            "outputs": [],
            "source": "df_filtered = df[[\"SEVERITYCODE\",\"ADDRTYPE\",\"JUNCTIONTYPE\",\"WEATHER\",\"ROADCOND\",\"LIGHTCOND\"]]\n"
        },
        {
            "cell_type": "code",
            "execution_count": 57,
            "metadata": {},
            "outputs": [
                {
                    "data": {
                        "text/html": "<div>\n<style scoped>\n    .dataframe tbody tr th:only-of-type {\n        vertical-align: middle;\n    }\n\n    .dataframe tbody tr th {\n        vertical-align: top;\n    }\n\n    .dataframe thead th {\n        text-align: right;\n    }\n</style>\n<table border=\"1\" class=\"dataframe\">\n  <thead>\n    <tr style=\"text-align: right;\">\n      <th></th>\n      <th>SEVERITYCODE</th>\n      <th>ADDRTYPE</th>\n      <th>JUNCTIONTYPE</th>\n      <th>WEATHER</th>\n      <th>ROADCOND</th>\n      <th>LIGHTCOND</th>\n    </tr>\n  </thead>\n  <tbody>\n    <tr>\n      <th>0</th>\n      <td>2</td>\n      <td>Intersection</td>\n      <td>At Intersection (intersection related)</td>\n      <td>Overcast</td>\n      <td>Wet</td>\n      <td>Daylight</td>\n    </tr>\n    <tr>\n      <th>1</th>\n      <td>1</td>\n      <td>Block</td>\n      <td>Mid-Block (not related to intersection)</td>\n      <td>Raining</td>\n      <td>Wet</td>\n      <td>Dark - Street Lights On</td>\n    </tr>\n    <tr>\n      <th>2</th>\n      <td>1</td>\n      <td>Block</td>\n      <td>Mid-Block (not related to intersection)</td>\n      <td>Overcast</td>\n      <td>Dry</td>\n      <td>Daylight</td>\n    </tr>\n    <tr>\n      <th>3</th>\n      <td>1</td>\n      <td>Block</td>\n      <td>Mid-Block (not related to intersection)</td>\n      <td>Clear</td>\n      <td>Dry</td>\n      <td>Daylight</td>\n    </tr>\n    <tr>\n      <th>4</th>\n      <td>2</td>\n      <td>Intersection</td>\n      <td>At Intersection (intersection related)</td>\n      <td>Raining</td>\n      <td>Wet</td>\n      <td>Daylight</td>\n    </tr>\n  </tbody>\n</table>\n</div>",
                        "text/plain": "   SEVERITYCODE      ADDRTYPE                             JUNCTIONTYPE  \\\n0             2  Intersection   At Intersection (intersection related)   \n1             1         Block  Mid-Block (not related to intersection)   \n2             1         Block  Mid-Block (not related to intersection)   \n3             1         Block  Mid-Block (not related to intersection)   \n4             2  Intersection   At Intersection (intersection related)   \n\n    WEATHER ROADCOND                LIGHTCOND  \n0  Overcast      Wet                 Daylight  \n1   Raining      Wet  Dark - Street Lights On  \n2  Overcast      Dry                 Daylight  \n3     Clear      Dry                 Daylight  \n4   Raining      Wet                 Daylight  "
                    },
                    "execution_count": 57,
                    "metadata": {},
                    "output_type": "execute_result"
                }
            ],
            "source": "df_filtered.head()"
        },
        {
            "cell_type": "code",
            "execution_count": 59,
            "metadata": {},
            "outputs": [
                {
                    "data": {
                        "text/plain": "(194673, 6)"
                    },
                    "execution_count": 59,
                    "metadata": {},
                    "output_type": "execute_result"
                }
            ],
            "source": "df_filtered.shape"
        },
        {
            "cell_type": "code",
            "execution_count": 60,
            "metadata": {},
            "outputs": [
                {
                    "data": {
                        "text/plain": "array(['Intersection', 'Block', 'Alley', nan], dtype=object)"
                    },
                    "execution_count": 60,
                    "metadata": {},
                    "output_type": "execute_result"
                }
            ],
            "source": "df_filtered.ADDRTYPE.unique()"
        },
        {
            "cell_type": "code",
            "execution_count": 20,
            "metadata": {},
            "outputs": [
                {
                    "data": {
                        "text/html": "<div>\n<style scoped>\n    .dataframe tbody tr th:only-of-type {\n        vertical-align: middle;\n    }\n\n    .dataframe tbody tr th {\n        vertical-align: top;\n    }\n\n    .dataframe thead th {\n        text-align: right;\n    }\n</style>\n<table border=\"1\" class=\"dataframe\">\n  <thead>\n    <tr style=\"text-align: right;\">\n      <th></th>\n      <th>SEVERITYCODE</th>\n      <th>ADDRTYPE</th>\n      <th>JUNCTIONTYPE</th>\n      <th>WEATHER</th>\n      <th>ROADCOND</th>\n      <th>LIGHTCOND</th>\n    </tr>\n  </thead>\n  <tbody>\n    <tr>\n      <th>74</th>\n      <td>1</td>\n      <td>NaN</td>\n      <td>Mid-Block (not related to intersection)</td>\n      <td>Clear</td>\n      <td>Dry</td>\n      <td>Daylight</td>\n    </tr>\n    <tr>\n      <th>171</th>\n      <td>1</td>\n      <td>NaN</td>\n      <td>NaN</td>\n      <td>Clear</td>\n      <td>Dry</td>\n      <td>Daylight</td>\n    </tr>\n    <tr>\n      <th>268</th>\n      <td>1</td>\n      <td>NaN</td>\n      <td>Mid-Block (not related to intersection)</td>\n      <td>Clear</td>\n      <td>Dry</td>\n      <td>Dark - Street Lights On</td>\n    </tr>\n    <tr>\n      <th>355</th>\n      <td>1</td>\n      <td>NaN</td>\n      <td>NaN</td>\n      <td>Clear</td>\n      <td>Dry</td>\n      <td>Daylight</td>\n    </tr>\n    <tr>\n      <th>412</th>\n      <td>1</td>\n      <td>NaN</td>\n      <td>Unknown</td>\n      <td>Clear</td>\n      <td>Dry</td>\n      <td>Daylight</td>\n    </tr>\n    <tr>\n      <th>715</th>\n      <td>1</td>\n      <td>NaN</td>\n      <td>NaN</td>\n      <td>Overcast</td>\n      <td>Wet</td>\n      <td>Dark - Street Lights On</td>\n    </tr>\n    <tr>\n      <th>1023</th>\n      <td>1</td>\n      <td>NaN</td>\n      <td>NaN</td>\n      <td>Unknown</td>\n      <td>Unknown</td>\n      <td>Unknown</td>\n    </tr>\n    <tr>\n      <th>1120</th>\n      <td>2</td>\n      <td>NaN</td>\n      <td>NaN</td>\n      <td>Clear</td>\n      <td>Dry</td>\n      <td>Daylight</td>\n    </tr>\n    <tr>\n      <th>1216</th>\n      <td>1</td>\n      <td>NaN</td>\n      <td>NaN</td>\n      <td>Overcast</td>\n      <td>Dry</td>\n      <td>Dusk</td>\n    </tr>\n    <tr>\n      <th>1218</th>\n      <td>1</td>\n      <td>NaN</td>\n      <td>NaN</td>\n      <td>Clear</td>\n      <td>Unknown</td>\n      <td>Daylight</td>\n    </tr>\n    <tr>\n      <th>1223</th>\n      <td>1</td>\n      <td>NaN</td>\n      <td>NaN</td>\n      <td>Unknown</td>\n      <td>Unknown</td>\n      <td>Unknown</td>\n    </tr>\n    <tr>\n      <th>1546</th>\n      <td>2</td>\n      <td>NaN</td>\n      <td>NaN</td>\n      <td>Clear</td>\n      <td>Dry</td>\n      <td>Dark - Street Lights Off</td>\n    </tr>\n    <tr>\n      <th>1610</th>\n      <td>1</td>\n      <td>NaN</td>\n      <td>NaN</td>\n      <td>Unknown</td>\n      <td>Unknown</td>\n      <td>Unknown</td>\n    </tr>\n    <tr>\n      <th>1758</th>\n      <td>1</td>\n      <td>NaN</td>\n      <td>NaN</td>\n      <td>Unknown</td>\n      <td>Unknown</td>\n      <td>Unknown</td>\n    </tr>\n    <tr>\n      <th>1925</th>\n      <td>1</td>\n      <td>NaN</td>\n      <td>NaN</td>\n      <td>Unknown</td>\n      <td>Snow/Slush</td>\n      <td>Unknown</td>\n    </tr>\n    <tr>\n      <th>2030</th>\n      <td>1</td>\n      <td>NaN</td>\n      <td>NaN</td>\n      <td>Unknown</td>\n      <td>Unknown</td>\n      <td>Unknown</td>\n    </tr>\n    <tr>\n      <th>2080</th>\n      <td>1</td>\n      <td>NaN</td>\n      <td>NaN</td>\n      <td>Unknown</td>\n      <td>Unknown</td>\n      <td>Unknown</td>\n    </tr>\n    <tr>\n      <th>2110</th>\n      <td>1</td>\n      <td>NaN</td>\n      <td>NaN</td>\n      <td>Overcast</td>\n      <td>Dry</td>\n      <td>Daylight</td>\n    </tr>\n    <tr>\n      <th>2245</th>\n      <td>1</td>\n      <td>NaN</td>\n      <td>NaN</td>\n      <td>Unknown</td>\n      <td>Unknown</td>\n      <td>Unknown</td>\n    </tr>\n    <tr>\n      <th>2507</th>\n      <td>1</td>\n      <td>NaN</td>\n      <td>NaN</td>\n      <td>Overcast</td>\n      <td>Dry</td>\n      <td>Daylight</td>\n    </tr>\n    <tr>\n      <th>2927</th>\n      <td>1</td>\n      <td>NaN</td>\n      <td>NaN</td>\n      <td>Overcast</td>\n      <td>Wet</td>\n      <td>Dark - Street Lights On</td>\n    </tr>\n    <tr>\n      <th>3188</th>\n      <td>1</td>\n      <td>NaN</td>\n      <td>NaN</td>\n      <td>Unknown</td>\n      <td>Unknown</td>\n      <td>Unknown</td>\n    </tr>\n    <tr>\n      <th>3345</th>\n      <td>1</td>\n      <td>NaN</td>\n      <td>NaN</td>\n      <td>Other</td>\n      <td>Other</td>\n      <td>Unknown</td>\n    </tr>\n    <tr>\n      <th>3419</th>\n      <td>1</td>\n      <td>NaN</td>\n      <td>NaN</td>\n      <td>Unknown</td>\n      <td>Unknown</td>\n      <td>Unknown</td>\n    </tr>\n    <tr>\n      <th>3495</th>\n      <td>1</td>\n      <td>NaN</td>\n      <td>NaN</td>\n      <td>Unknown</td>\n      <td>Unknown</td>\n      <td>Unknown</td>\n    </tr>\n    <tr>\n      <th>3597</th>\n      <td>1</td>\n      <td>NaN</td>\n      <td>NaN</td>\n      <td>Unknown</td>\n      <td>Unknown</td>\n      <td>Unknown</td>\n    </tr>\n    <tr>\n      <th>3995</th>\n      <td>2</td>\n      <td>NaN</td>\n      <td>NaN</td>\n      <td>Clear</td>\n      <td>Dry</td>\n      <td>Daylight</td>\n    </tr>\n    <tr>\n      <th>4421</th>\n      <td>1</td>\n      <td>NaN</td>\n      <td>Mid-Block (but intersection related)</td>\n      <td>Unknown</td>\n      <td>Unknown</td>\n      <td>Daylight</td>\n    </tr>\n    <tr>\n      <th>4488</th>\n      <td>1</td>\n      <td>NaN</td>\n      <td>NaN</td>\n      <td>Overcast</td>\n      <td>Dry</td>\n      <td>Daylight</td>\n    </tr>\n    <tr>\n      <th>4929</th>\n      <td>1</td>\n      <td>NaN</td>\n      <td>NaN</td>\n      <td>Unknown</td>\n      <td>Unknown</td>\n      <td>Unknown</td>\n    </tr>\n    <tr>\n      <th>...</th>\n      <td>...</td>\n      <td>...</td>\n      <td>...</td>\n      <td>...</td>\n      <td>...</td>\n      <td>...</td>\n    </tr>\n    <tr>\n      <th>183322</th>\n      <td>1</td>\n      <td>NaN</td>\n      <td>NaN</td>\n      <td>Clear</td>\n      <td>Dry</td>\n      <td>Daylight</td>\n    </tr>\n    <tr>\n      <th>183651</th>\n      <td>1</td>\n      <td>NaN</td>\n      <td>NaN</td>\n      <td>Clear</td>\n      <td>Dry</td>\n      <td>Daylight</td>\n    </tr>\n    <tr>\n      <th>183905</th>\n      <td>1</td>\n      <td>NaN</td>\n      <td>NaN</td>\n      <td>Clear</td>\n      <td>Dry</td>\n      <td>Daylight</td>\n    </tr>\n    <tr>\n      <th>184104</th>\n      <td>1</td>\n      <td>NaN</td>\n      <td>NaN</td>\n      <td>Clear</td>\n      <td>Dry</td>\n      <td>Unknown</td>\n    </tr>\n    <tr>\n      <th>184373</th>\n      <td>1</td>\n      <td>NaN</td>\n      <td>NaN</td>\n      <td>Overcast</td>\n      <td>Dry</td>\n      <td>Dawn</td>\n    </tr>\n    <tr>\n      <th>184390</th>\n      <td>1</td>\n      <td>NaN</td>\n      <td>NaN</td>\n      <td>NaN</td>\n      <td>NaN</td>\n      <td>NaN</td>\n    </tr>\n    <tr>\n      <th>184855</th>\n      <td>1</td>\n      <td>NaN</td>\n      <td>NaN</td>\n      <td>Unknown</td>\n      <td>Unknown</td>\n      <td>Unknown</td>\n    </tr>\n    <tr>\n      <th>184945</th>\n      <td>1</td>\n      <td>NaN</td>\n      <td>NaN</td>\n      <td>Unknown</td>\n      <td>Unknown</td>\n      <td>Daylight</td>\n    </tr>\n    <tr>\n      <th>185890</th>\n      <td>1</td>\n      <td>NaN</td>\n      <td>NaN</td>\n      <td>Other</td>\n      <td>Unknown</td>\n      <td>Unknown</td>\n    </tr>\n    <tr>\n      <th>186091</th>\n      <td>1</td>\n      <td>NaN</td>\n      <td>NaN</td>\n      <td>Other</td>\n      <td>Unknown</td>\n      <td>Daylight</td>\n    </tr>\n    <tr>\n      <th>186553</th>\n      <td>1</td>\n      <td>NaN</td>\n      <td>NaN</td>\n      <td>Other</td>\n      <td>Unknown</td>\n      <td>Unknown</td>\n    </tr>\n    <tr>\n      <th>186666</th>\n      <td>1</td>\n      <td>NaN</td>\n      <td>NaN</td>\n      <td>Raining</td>\n      <td>Wet</td>\n      <td>Dark - Street Lights On</td>\n    </tr>\n    <tr>\n      <th>187533</th>\n      <td>1</td>\n      <td>NaN</td>\n      <td>NaN</td>\n      <td>Clear</td>\n      <td>Wet</td>\n      <td>Daylight</td>\n    </tr>\n    <tr>\n      <th>188779</th>\n      <td>1</td>\n      <td>NaN</td>\n      <td>Mid-Block (not related to intersection)</td>\n      <td>Clear</td>\n      <td>Dry</td>\n      <td>Daylight</td>\n    </tr>\n    <tr>\n      <th>189050</th>\n      <td>1</td>\n      <td>NaN</td>\n      <td>NaN</td>\n      <td>Blowing Sand/Dirt</td>\n      <td>Ice</td>\n      <td>Unknown</td>\n    </tr>\n    <tr>\n      <th>189212</th>\n      <td>1</td>\n      <td>NaN</td>\n      <td>NaN</td>\n      <td>Raining</td>\n      <td>Wet</td>\n      <td>Dusk</td>\n    </tr>\n    <tr>\n      <th>189505</th>\n      <td>1</td>\n      <td>NaN</td>\n      <td>NaN</td>\n      <td>Other</td>\n      <td>Unknown</td>\n      <td>Unknown</td>\n    </tr>\n    <tr>\n      <th>189528</th>\n      <td>1</td>\n      <td>NaN</td>\n      <td>NaN</td>\n      <td>Clear</td>\n      <td>Standing Water</td>\n      <td>Dark - Street Lights On</td>\n    </tr>\n    <tr>\n      <th>189578</th>\n      <td>1</td>\n      <td>NaN</td>\n      <td>NaN</td>\n      <td>Clear</td>\n      <td>Dry</td>\n      <td>Daylight</td>\n    </tr>\n    <tr>\n      <th>190203</th>\n      <td>1</td>\n      <td>NaN</td>\n      <td>NaN</td>\n      <td>Raining</td>\n      <td>Wet</td>\n      <td>Dark - Street Lights On</td>\n    </tr>\n    <tr>\n      <th>190521</th>\n      <td>2</td>\n      <td>NaN</td>\n      <td>At Intersection (intersection related)</td>\n      <td>Overcast</td>\n      <td>Wet</td>\n      <td>Daylight</td>\n    </tr>\n    <tr>\n      <th>191153</th>\n      <td>1</td>\n      <td>NaN</td>\n      <td>NaN</td>\n      <td>Raining</td>\n      <td>Wet</td>\n      <td>Unknown</td>\n    </tr>\n    <tr>\n      <th>191580</th>\n      <td>1</td>\n      <td>NaN</td>\n      <td>NaN</td>\n      <td>Clear</td>\n      <td>Dry</td>\n      <td>Daylight</td>\n    </tr>\n    <tr>\n      <th>191826</th>\n      <td>1</td>\n      <td>NaN</td>\n      <td>NaN</td>\n      <td>Clear</td>\n      <td>Dry</td>\n      <td>Unknown</td>\n    </tr>\n    <tr>\n      <th>191979</th>\n      <td>1</td>\n      <td>NaN</td>\n      <td>Mid-Block (not related to intersection)</td>\n      <td>Unknown</td>\n      <td>Unknown</td>\n      <td>Dark - Street Lights On</td>\n    </tr>\n    <tr>\n      <th>192292</th>\n      <td>1</td>\n      <td>NaN</td>\n      <td>NaN</td>\n      <td>Clear</td>\n      <td>Dry</td>\n      <td>Daylight</td>\n    </tr>\n    <tr>\n      <th>192949</th>\n      <td>1</td>\n      <td>NaN</td>\n      <td>NaN</td>\n      <td>Fog/Smog/Smoke</td>\n      <td>Dry</td>\n      <td>Dark - Street Lights On</td>\n    </tr>\n    <tr>\n      <th>193632</th>\n      <td>1</td>\n      <td>NaN</td>\n      <td>NaN</td>\n      <td>Clear</td>\n      <td>Dry</td>\n      <td>Daylight</td>\n    </tr>\n    <tr>\n      <th>193832</th>\n      <td>1</td>\n      <td>NaN</td>\n      <td>NaN</td>\n      <td>Clear</td>\n      <td>Dry</td>\n      <td>Dark - Street Lights On</td>\n    </tr>\n    <tr>\n      <th>194568</th>\n      <td>1</td>\n      <td>NaN</td>\n      <td>Mid-Block (not related to intersection)</td>\n      <td>Raining</td>\n      <td>Wet</td>\n      <td>Daylight</td>\n    </tr>\n  </tbody>\n</table>\n<p>1926 rows \u00d7 6 columns</p>\n</div>",
                        "text/plain": "        SEVERITYCODE ADDRTYPE                             JUNCTIONTYPE  \\\n74                 1      NaN  Mid-Block (not related to intersection)   \n171                1      NaN                                      NaN   \n268                1      NaN  Mid-Block (not related to intersection)   \n355                1      NaN                                      NaN   \n412                1      NaN                                  Unknown   \n715                1      NaN                                      NaN   \n1023               1      NaN                                      NaN   \n1120               2      NaN                                      NaN   \n1216               1      NaN                                      NaN   \n1218               1      NaN                                      NaN   \n1223               1      NaN                                      NaN   \n1546               2      NaN                                      NaN   \n1610               1      NaN                                      NaN   \n1758               1      NaN                                      NaN   \n1925               1      NaN                                      NaN   \n2030               1      NaN                                      NaN   \n2080               1      NaN                                      NaN   \n2110               1      NaN                                      NaN   \n2245               1      NaN                                      NaN   \n2507               1      NaN                                      NaN   \n2927               1      NaN                                      NaN   \n3188               1      NaN                                      NaN   \n3345               1      NaN                                      NaN   \n3419               1      NaN                                      NaN   \n3495               1      NaN                                      NaN   \n3597               1      NaN                                      NaN   \n3995               2      NaN                                      NaN   \n4421               1      NaN     Mid-Block (but intersection related)   \n4488               1      NaN                                      NaN   \n4929               1      NaN                                      NaN   \n...              ...      ...                                      ...   \n183322             1      NaN                                      NaN   \n183651             1      NaN                                      NaN   \n183905             1      NaN                                      NaN   \n184104             1      NaN                                      NaN   \n184373             1      NaN                                      NaN   \n184390             1      NaN                                      NaN   \n184855             1      NaN                                      NaN   \n184945             1      NaN                                      NaN   \n185890             1      NaN                                      NaN   \n186091             1      NaN                                      NaN   \n186553             1      NaN                                      NaN   \n186666             1      NaN                                      NaN   \n187533             1      NaN                                      NaN   \n188779             1      NaN  Mid-Block (not related to intersection)   \n189050             1      NaN                                      NaN   \n189212             1      NaN                                      NaN   \n189505             1      NaN                                      NaN   \n189528             1      NaN                                      NaN   \n189578             1      NaN                                      NaN   \n190203             1      NaN                                      NaN   \n190521             2      NaN   At Intersection (intersection related)   \n191153             1      NaN                                      NaN   \n191580             1      NaN                                      NaN   \n191826             1      NaN                                      NaN   \n191979             1      NaN  Mid-Block (not related to intersection)   \n192292             1      NaN                                      NaN   \n192949             1      NaN                                      NaN   \n193632             1      NaN                                      NaN   \n193832             1      NaN                                      NaN   \n194568             1      NaN  Mid-Block (not related to intersection)   \n\n                  WEATHER        ROADCOND                 LIGHTCOND  \n74                  Clear             Dry                  Daylight  \n171                 Clear             Dry                  Daylight  \n268                 Clear             Dry   Dark - Street Lights On  \n355                 Clear             Dry                  Daylight  \n412                 Clear             Dry                  Daylight  \n715              Overcast             Wet   Dark - Street Lights On  \n1023              Unknown         Unknown                   Unknown  \n1120                Clear             Dry                  Daylight  \n1216             Overcast             Dry                      Dusk  \n1218                Clear         Unknown                  Daylight  \n1223              Unknown         Unknown                   Unknown  \n1546                Clear             Dry  Dark - Street Lights Off  \n1610              Unknown         Unknown                   Unknown  \n1758              Unknown         Unknown                   Unknown  \n1925              Unknown      Snow/Slush                   Unknown  \n2030              Unknown         Unknown                   Unknown  \n2080              Unknown         Unknown                   Unknown  \n2110             Overcast             Dry                  Daylight  \n2245              Unknown         Unknown                   Unknown  \n2507             Overcast             Dry                  Daylight  \n2927             Overcast             Wet   Dark - Street Lights On  \n3188              Unknown         Unknown                   Unknown  \n3345                Other           Other                   Unknown  \n3419              Unknown         Unknown                   Unknown  \n3495              Unknown         Unknown                   Unknown  \n3597              Unknown         Unknown                   Unknown  \n3995                Clear             Dry                  Daylight  \n4421              Unknown         Unknown                  Daylight  \n4488             Overcast             Dry                  Daylight  \n4929              Unknown         Unknown                   Unknown  \n...                   ...             ...                       ...  \n183322              Clear             Dry                  Daylight  \n183651              Clear             Dry                  Daylight  \n183905              Clear             Dry                  Daylight  \n184104              Clear             Dry                   Unknown  \n184373           Overcast             Dry                      Dawn  \n184390                NaN             NaN                       NaN  \n184855            Unknown         Unknown                   Unknown  \n184945            Unknown         Unknown                  Daylight  \n185890              Other         Unknown                   Unknown  \n186091              Other         Unknown                  Daylight  \n186553              Other         Unknown                   Unknown  \n186666            Raining             Wet   Dark - Street Lights On  \n187533              Clear             Wet                  Daylight  \n188779              Clear             Dry                  Daylight  \n189050  Blowing Sand/Dirt             Ice                   Unknown  \n189212            Raining             Wet                      Dusk  \n189505              Other         Unknown                   Unknown  \n189528              Clear  Standing Water   Dark - Street Lights On  \n189578              Clear             Dry                  Daylight  \n190203            Raining             Wet   Dark - Street Lights On  \n190521           Overcast             Wet                  Daylight  \n191153            Raining             Wet                   Unknown  \n191580              Clear             Dry                  Daylight  \n191826              Clear             Dry                   Unknown  \n191979            Unknown         Unknown   Dark - Street Lights On  \n192292              Clear             Dry                  Daylight  \n192949     Fog/Smog/Smoke             Dry   Dark - Street Lights On  \n193632              Clear             Dry                  Daylight  \n193832              Clear             Dry   Dark - Street Lights On  \n194568            Raining             Wet                  Daylight  \n\n[1926 rows x 6 columns]"
                    },
                    "execution_count": 20,
                    "metadata": {},
                    "output_type": "execute_result"
                }
            ],
            "source": "df_filtered[df_filtered[\"ADDRTYPE\"].isnull()]"
        },
        {
            "cell_type": "code",
            "execution_count": 78,
            "metadata": {},
            "outputs": [],
            "source": "df_na_dropped = df_filtered.dropna()"
        },
        {
            "cell_type": "code",
            "execution_count": 62,
            "metadata": {},
            "outputs": [
                {
                    "data": {
                        "text/plain": "(182914, 6)"
                    },
                    "execution_count": 62,
                    "metadata": {},
                    "output_type": "execute_result"
                }
            ],
            "source": "df_na_dropped.shape"
        },
        {
            "cell_type": "code",
            "execution_count": 63,
            "metadata": {},
            "outputs": [
                {
                    "data": {
                        "text/html": "<div>\n<style scoped>\n    .dataframe tbody tr th:only-of-type {\n        vertical-align: middle;\n    }\n\n    .dataframe tbody tr th {\n        vertical-align: top;\n    }\n\n    .dataframe thead th {\n        text-align: right;\n    }\n</style>\n<table border=\"1\" class=\"dataframe\">\n  <thead>\n    <tr style=\"text-align: right;\">\n      <th></th>\n      <th>SEVERITYCODE</th>\n      <th>ADDRTYPE</th>\n      <th>JUNCTIONTYPE</th>\n      <th>WEATHER</th>\n      <th>ROADCOND</th>\n      <th>LIGHTCOND</th>\n    </tr>\n  </thead>\n  <tbody>\n    <tr>\n      <th>0</th>\n      <td>2</td>\n      <td>Intersection</td>\n      <td>At Intersection (intersection related)</td>\n      <td>Overcast</td>\n      <td>Wet</td>\n      <td>Daylight</td>\n    </tr>\n    <tr>\n      <th>1</th>\n      <td>1</td>\n      <td>Block</td>\n      <td>Mid-Block (not related to intersection)</td>\n      <td>Raining</td>\n      <td>Wet</td>\n      <td>Dark - Street Lights On</td>\n    </tr>\n    <tr>\n      <th>2</th>\n      <td>1</td>\n      <td>Block</td>\n      <td>Mid-Block (not related to intersection)</td>\n      <td>Overcast</td>\n      <td>Dry</td>\n      <td>Daylight</td>\n    </tr>\n    <tr>\n      <th>3</th>\n      <td>1</td>\n      <td>Block</td>\n      <td>Mid-Block (not related to intersection)</td>\n      <td>Clear</td>\n      <td>Dry</td>\n      <td>Daylight</td>\n    </tr>\n    <tr>\n      <th>4</th>\n      <td>2</td>\n      <td>Intersection</td>\n      <td>At Intersection (intersection related)</td>\n      <td>Raining</td>\n      <td>Wet</td>\n      <td>Daylight</td>\n    </tr>\n  </tbody>\n</table>\n</div>",
                        "text/plain": "   SEVERITYCODE      ADDRTYPE                             JUNCTIONTYPE  \\\n0             2  Intersection   At Intersection (intersection related)   \n1             1         Block  Mid-Block (not related to intersection)   \n2             1         Block  Mid-Block (not related to intersection)   \n3             1         Block  Mid-Block (not related to intersection)   \n4             2  Intersection   At Intersection (intersection related)   \n\n    WEATHER ROADCOND                LIGHTCOND  \n0  Overcast      Wet                 Daylight  \n1   Raining      Wet  Dark - Street Lights On  \n2  Overcast      Dry                 Daylight  \n3     Clear      Dry                 Daylight  \n4   Raining      Wet                 Daylight  "
                    },
                    "execution_count": 63,
                    "metadata": {},
                    "output_type": "execute_result"
                }
            ],
            "source": "df_na_dropped.head()"
        },
        {
            "cell_type": "code",
            "execution_count": 79,
            "metadata": {},
            "outputs": [
                {
                    "data": {
                        "text/plain": "array(['Intersection', 'Block', 'Alley'], dtype=object)"
                    },
                    "execution_count": 79,
                    "metadata": {},
                    "output_type": "execute_result"
                }
            ],
            "source": "df_na_dropped.ADDRTYPE.unique()"
        },
        {
            "cell_type": "code",
            "execution_count": 80,
            "metadata": {},
            "outputs": [
                {
                    "data": {
                        "text/plain": "SEVERITYCODE     int64\nADDRTYPE        object\nJUNCTIONTYPE    object\nWEATHER         object\nROADCOND        object\nLIGHTCOND       object\ndtype: object"
                    },
                    "execution_count": 80,
                    "metadata": {},
                    "output_type": "execute_result"
                }
            ],
            "source": "df_na_dropped.dtypes"
        },
        {
            "cell_type": "markdown",
            "metadata": {},
            "source": "### To transform the categorical values to numerical values"
        },
        {
            "cell_type": "code",
            "execution_count": 31,
            "metadata": {},
            "outputs": [],
            "source": ""
        },
        {
            "cell_type": "code",
            "execution_count": 81,
            "metadata": {},
            "outputs": [
                {
                    "data": {
                        "text/plain": "array(['At Intersection (intersection related)',\n       'Mid-Block (not related to intersection)', 'Driveway Junction',\n       'Mid-Block (but intersection related)',\n       'At Intersection (but not related to intersection)',\n       'Ramp Junction'], dtype=object)"
                    },
                    "execution_count": 81,
                    "metadata": {},
                    "output_type": "execute_result"
                }
            ],
            "source": "df_na_dropped.JUNCTIONTYPE.unique()"
        },
        {
            "cell_type": "code",
            "execution_count": 82,
            "metadata": {},
            "outputs": [
                {
                    "data": {
                        "text/plain": "array(['Overcast', 'Raining', 'Clear', 'Snowing', 'Other',\n       'Fog/Smog/Smoke', 'Sleet/Hail/Freezing Rain', 'Blowing Sand/Dirt',\n       'Severe Crosswind', 'Partly Cloudy'], dtype=object)"
                    },
                    "execution_count": 82,
                    "metadata": {},
                    "output_type": "execute_result"
                }
            ],
            "source": "df_na_dropped.WEATHER.unique()"
        },
        {
            "cell_type": "code",
            "execution_count": 83,
            "metadata": {},
            "outputs": [
                {
                    "data": {
                        "text/plain": "array(['Wet', 'Dry', 'Snow/Slush', 'Ice', 'Other', 'Sand/Mud/Dirt',\n       'Standing Water', 'Oil'], dtype=object)"
                    },
                    "execution_count": 83,
                    "metadata": {},
                    "output_type": "execute_result"
                }
            ],
            "source": "df_na_dropped.ROADCOND.unique()"
        },
        {
            "cell_type": "code",
            "execution_count": 84,
            "metadata": {},
            "outputs": [
                {
                    "data": {
                        "text/plain": "array(['Daylight', 'Dark - Street Lights On', 'Dark - No Street Lights',\n       'Dusk', 'Dawn', 'Dark - Street Lights Off', 'Other',\n       'Dark - Unknown Lighting'], dtype=object)"
                    },
                    "execution_count": 84,
                    "metadata": {},
                    "output_type": "execute_result"
                }
            ],
            "source": "df_na_dropped.LIGHTCOND.unique()"
        },
        {
            "cell_type": "markdown",
            "metadata": {},
            "source": "#### First we have to delete the rows with unknown values"
        },
        {
            "cell_type": "code",
            "execution_count": 85,
            "metadata": {},
            "outputs": [],
            "source": "df_na_dropped.drop( df_na_dropped[ df_na_dropped['JUNCTIONTYPE'] == \"Unknown\" ].index , inplace=True)"
        },
        {
            "cell_type": "code",
            "execution_count": 86,
            "metadata": {},
            "outputs": [],
            "source": "df_na_dropped.drop( df_na_dropped[ df_na_dropped['WEATHER'] == \"Unknown\" ].index , inplace=True)"
        },
        {
            "cell_type": "code",
            "execution_count": 87,
            "metadata": {},
            "outputs": [],
            "source": "df_na_dropped.drop( df_na_dropped[ df_na_dropped['ROADCOND'] == \"Unknown\" ].index , inplace=True)"
        },
        {
            "cell_type": "code",
            "execution_count": 88,
            "metadata": {},
            "outputs": [],
            "source": "df_na_dropped.drop( df_na_dropped[ df_na_dropped['LIGHTCOND'] == \"Unknown\" ].index , inplace=True)"
        },
        {
            "cell_type": "markdown",
            "metadata": {},
            "source": "#### matching the number of records for the severity 1 and 2 "
        },
        {
            "cell_type": "code",
            "execution_count": 116,
            "metadata": {},
            "outputs": [],
            "source": "df_severity_1 = df_na_dropped[df_na_dropped['SEVERITYCODE']==1]"
        },
        {
            "cell_type": "code",
            "execution_count": 117,
            "metadata": {},
            "outputs": [],
            "source": "df_severity_2 = df_na_dropped[df_na_dropped['SEVERITYCODE']==2]"
        },
        {
            "cell_type": "code",
            "execution_count": 118,
            "metadata": {},
            "outputs": [],
            "source": "df_severity_1_sampling = df_severity_1.sample(n=56000)  ## there are about 50k fewer records for severity 2 , so to balance the no of records in the dataset we will take around 56k records for severity 1"
        },
        {
            "cell_type": "code",
            "execution_count": 119,
            "metadata": {},
            "outputs": [],
            "source": "df_final_sampling = pd.concat([df_severity_1_sampling,df_severity_2])\n"
        },
        {
            "cell_type": "code",
            "execution_count": 120,
            "metadata": {},
            "outputs": [
                {
                    "data": {
                        "text/plain": "1    56000\n2    55485\nName: SEVERITYCODE, dtype: int64"
                    },
                    "execution_count": 120,
                    "metadata": {},
                    "output_type": "execute_result"
                }
            ],
            "source": "df_final_sampling['SEVERITYCODE'].value_counts()"
        },
        {
            "cell_type": "code",
            "execution_count": 121,
            "metadata": {},
            "outputs": [],
            "source": "X_svm = df_final_sampling[[\"ADDRTYPE\",\"JUNCTIONTYPE\",\"WEATHER\",\"ROADCOND\",\"LIGHTCOND\"]].values"
        },
        {
            "cell_type": "code",
            "execution_count": 122,
            "metadata": {},
            "outputs": [
                {
                    "data": {
                        "text/plain": "array([['Block', 'Mid-Block (not related to intersection)', 'Clear',\n        'Dry', 'Daylight'],\n       ['Block', 'Mid-Block (not related to intersection)', 'Clear',\n        'Dry', 'Daylight'],\n       ['Intersection', 'At Intersection (intersection related)',\n        'Clear', 'Dry', 'Daylight'],\n       ['Intersection', 'At Intersection (intersection related)',\n        'Clear', 'Dry', 'Daylight'],\n       ['Block', 'Mid-Block (but intersection related)', 'Raining',\n        'Wet', 'Daylight']], dtype=object)"
                    },
                    "execution_count": 122,
                    "metadata": {},
                    "output_type": "execute_result"
                }
            ],
            "source": "X_svm[0:5]"
        },
        {
            "cell_type": "code",
            "execution_count": 123,
            "metadata": {},
            "outputs": [
                {
                    "data": {
                        "text/plain": "array(['Block', 'Block', 'Intersection', ..., 'Block', 'Intersection',\n       'Intersection'], dtype=object)"
                    },
                    "execution_count": 123,
                    "metadata": {},
                    "output_type": "execute_result"
                }
            ],
            "source": "X_svm[:,0]"
        },
        {
            "cell_type": "code",
            "execution_count": 124,
            "metadata": {},
            "outputs": [
                {
                    "data": {
                        "text/plain": "array([[1, 4, 1, 0, 5],\n       [1, 4, 1, 0, 5],\n       [2, 1, 1, 0, 5],\n       [2, 1, 1, 0, 5],\n       [1, 3, 6, 7, 5]], dtype=object)"
                    },
                    "execution_count": 124,
                    "metadata": {},
                    "output_type": "execute_result"
                }
            ],
            "source": "from sklearn import preprocessing\n\nle_ADDRTYPE = preprocessing.LabelEncoder()\nle_ADDRTYPE.fit(['Intersection','Block','Alley',])\nX_svm[:,0] = le_ADDRTYPE.transform(X_svm[:,0]) \n\nle_JUNCTIONTYPE = preprocessing.LabelEncoder()\nle_JUNCTIONTYPE.fit(['At Intersection (intersection related)','Mid-Block (not related to intersection)','Driveway Junction',\n                     'Mid-Block (but intersection related)','At Intersection (but not related to intersection)','Ramp Junction'])\nX_svm[:,1] = le_JUNCTIONTYPE.transform(X_svm[:,1]) \n\n\nle_WEATHER = preprocessing.LabelEncoder()\nle_WEATHER.fit([ 'Overcast', 'Raining', 'Clear','Other','Snowing','Fog/Smog/Smoke','Sleet/Hail/Freezing Rain','Blowing Sand/Dirt','Severe Crosswind','Partly Cloudy'])\nX_svm[:,2] = le_WEATHER.transform(X_svm[:,2])\n\n\nle_ROADCOND = preprocessing.LabelEncoder()\nle_ROADCOND.fit([ 'Wet', 'Dry','Snow/Slush','Ice','Other','Sand/Mud/Dirt','Standing Water','Oil'])\nX_svm[:,3] = le_ROADCOND.transform(X_svm[:,3]) \n\n\nle_LIGHTCOND = preprocessing.LabelEncoder()\nle_LIGHTCOND.fit([ 'Daylight', 'Dark - Street Lights On','Dark - No Street Lights','Dusk','Dawn','Dark - Street Lights Off', 'Other','Dark - Unknown Lighting'])\nX_svm[:,4] = le_LIGHTCOND.transform(X_svm[:,4]) \n\nX_svm[0:5]\n"
        },
        {
            "cell_type": "code",
            "execution_count": 125,
            "metadata": {},
            "outputs": [
                {
                    "data": {
                        "text/plain": "56745     1\n125281    1\n186466    1\n93721     1\n12467     1\nName: SEVERITYCODE, dtype: int64"
                    },
                    "execution_count": 125,
                    "metadata": {},
                    "output_type": "execute_result"
                }
            ],
            "source": "y_svm = df_final_sampling['SEVERITYCODE']\ny_svm[0:5]"
        },
        {
            "cell_type": "code",
            "execution_count": 126,
            "metadata": {},
            "outputs": [],
            "source": "from sklearn.model_selection import train_test_split"
        },
        {
            "cell_type": "code",
            "execution_count": 127,
            "metadata": {},
            "outputs": [
                {
                    "name": "stdout",
                    "output_type": "stream",
                    "text": "Train set: (89188, 5) (89188,)\nTest set: (22297, 5) (22297,)\n"
                }
            ],
            "source": "X_train, X_test, y_train, y_test = train_test_split( X_svm, y_svm, test_size=0.2, random_state=4)\nprint ('Train set:', X_train.shape,  y_train.shape)\nprint ('Test set:', X_test.shape,  y_test.shape)"
        },
        {
            "cell_type": "code",
            "execution_count": 128,
            "metadata": {},
            "outputs": [
                {
                    "name": "stdout",
                    "output_type": "stream",
                    "text": "fitting started\nfitting ended\n"
                }
            ],
            "source": "from sklearn import svm\n\nclf = svm.SVC(kernel='rbf',gamma='auto')\nprint(\"fitting started\")\nclf.fit(X_train, y_train) \nprint(\"fitting ended\")"
        },
        {
            "cell_type": "code",
            "execution_count": 129,
            "metadata": {},
            "outputs": [
                {
                    "data": {
                        "text/plain": "array([2, 2, 1, 2, 2])"
                    },
                    "execution_count": 129,
                    "metadata": {},
                    "output_type": "execute_result"
                }
            ],
            "source": "yhat = clf.predict(X_test)\nyhat [0:5]"
        },
        {
            "cell_type": "markdown",
            "metadata": {},
            "source": "### Evaluation\n"
        },
        {
            "cell_type": "code",
            "execution_count": 130,
            "metadata": {},
            "outputs": [],
            "source": "from sklearn.metrics import classification_report, confusion_matrix\nimport itertools\n%matplotlib inline \nimport matplotlib.pyplot as plt"
        },
        {
            "cell_type": "code",
            "execution_count": 105,
            "metadata": {},
            "outputs": [],
            "source": "def plot_confusion_matrix(cm, classes,\n                          normalize=True,\n                          title='Confusion matrix',\n                          cmap=plt.cm.Blues):\n    \"\"\"\n    This function prints and plots the confusion matrix.\n    Normalization can be applied by setting `normalize=True`.\n    \"\"\"\n    if normalize:\n        cm = cm.astype('float') / cm.sum(axis=1)[:, np.newaxis]\n        print(\"Normalized confusion matrix\")\n    else:\n        print('Confusion matrix, without normalization')\n\n    print(cm)\n\n    plt.imshow(cm, interpolation='nearest', cmap=cmap)\n    plt.title(title)\n    plt.colorbar()\n    tick_marks = np.arange(len(classes))\n    plt.xticks(tick_marks, classes, rotation=45)\n    plt.yticks(tick_marks, classes)\n\n    fmt = '.2f' if normalize else 'd'\n    thresh = cm.max() / 2.\n    for i, j in itertools.product(range(cm.shape[0]), range(cm.shape[1])):\n        plt.text(j, i, format(cm[i, j], fmt),\n                 horizontalalignment=\"center\",\n                 color=\"white\" if cm[i, j] > thresh else \"black\")\n\n    plt.tight_layout()\n    plt.ylabel('True label')\n    plt.xlabel('Predicted label')\n    "
        },
        {
            "cell_type": "code",
            "execution_count": 131,
            "metadata": {},
            "outputs": [
                {
                    "name": "stdout",
                    "output_type": "stream",
                    "text": "              precision    recall  f1-score   support\n\n           1       0.58      0.67      0.62     11130\n           2       0.61      0.51      0.56     11167\n\n   micro avg       0.59      0.59      0.59     22297\n   macro avg       0.59      0.59      0.59     22297\nweighted avg       0.59      0.59      0.59     22297\n\nConfusion matrix, without normalization\n[[7424 3706]\n [5427 5740]]\n"
                },
                {
                    "data": {
                        "image/png": "[encoded data removed]",
                        "text/plain": "<Figure size 432x288 with 2 Axes>"
                    },
                    "metadata": {
                        "needs_background": "light"
                    },
                    "output_type": "display_data"
                }
            ],
            "source": "# Compute confusion matrix\ncnf_matrix = confusion_matrix(y_test, yhat, labels=[1,2])\nnp.set_printoptions(precision=2)\n\nprint (classification_report(y_test, yhat))\n\n# Plot non-normalized confusion matrix\nplt.figure()\nplot_confusion_matrix(cnf_matrix, classes=['severity:1','severity:2'],normalize= False,  title='Confusion matrix')"
        },
        {
            "cell_type": "code",
            "execution_count": 132,
            "metadata": {},
            "outputs": [
                {
                    "data": {
                        "text/plain": "0.5879918325503074"
                    },
                    "execution_count": 132,
                    "metadata": {},
                    "output_type": "execute_result"
                }
            ],
            "source": "from sklearn.metrics import f1_score\nf1_score(y_test, yhat, average='weighted') "
        },
        {
            "cell_type": "code",
            "execution_count": 133,
            "metadata": {},
            "outputs": [
                {
                    "data": {
                        "text/plain": "0.5903933264564739"
                    },
                    "execution_count": 133,
                    "metadata": {},
                    "output_type": "execute_result"
                }
            ],
            "source": "from sklearn.metrics import jaccard_similarity_score\njaccard_similarity_score(y_test, yhat)"
        },
        {
            "cell_type": "code",
            "execution_count": 134,
            "metadata": {},
            "outputs": [
                {
                    "name": "stdout",
                    "output_type": "stream",
                    "text": "fitting started\nfitting ended\n"
                }
            ],
            "source": "from sklearn import svm\n\nclf_linear = svm.SVC(kernel='linear',gamma='auto')\nprint(\"fitting started\")\nclf_linear.fit(X_train, y_train) \nprint(\"fitting ended\")"
        },
        {
            "cell_type": "code",
            "execution_count": 135,
            "metadata": {},
            "outputs": [
                {
                    "data": {
                        "text/plain": "array([2, 2, 1, 1, 2])"
                    },
                    "execution_count": 135,
                    "metadata": {},
                    "output_type": "execute_result"
                }
            ],
            "source": "yhat_svm_linear = clf_linear.predict(X_test)\nyhat_svm_linear [0:5]"
        },
        {
            "cell_type": "code",
            "execution_count": 136,
            "metadata": {},
            "outputs": [
                {
                    "name": "stdout",
                    "output_type": "stream",
                    "text": "              precision    recall  f1-score   support\n\n           1       0.57      0.70      0.63     11130\n           2       0.61      0.48      0.54     11167\n\n   micro avg       0.59      0.59      0.59     22297\n   macro avg       0.59      0.59      0.58     22297\nweighted avg       0.59      0.59      0.58     22297\n\nConfusion matrix, without normalization\n[[7745 3385]\n [5767 5400]]\n"
                },
                {
                    "data": {
                        "image/png": "[encoded data removed]",
                        "text/plain": "<Figure size 432x288 with 2 Axes>"
                    },
                    "metadata": {
                        "needs_background": "light"
                    },
                    "output_type": "display_data"
                }
            ],
            "source": "# Compute confusion matrix\ncnf_matrix = confusion_matrix(y_test, yhat_svm_linear, labels=[1,2])\nnp.set_printoptions(precision=2)\n\nprint (classification_report(y_test, yhat_svm_linear))\n\n# Plot non-normalized confusion matrix\nplt.figure()\nplot_confusion_matrix(cnf_matrix, classes=['severity:1','severity:2'],normalize= False,  title='Confusion matrix')"
        },
        {
            "cell_type": "code",
            "execution_count": 184,
            "metadata": {},
            "outputs": [
                {
                    "data": {
                        "text/plain": "0.5848779106656709"
                    },
                    "execution_count": 184,
                    "metadata": {},
                    "output_type": "execute_result"
                }
            ],
            "source": "from sklearn.metrics import f1_score\nf1_score(y_test, yhat_svm_linear, average='weighted')"
        },
        {
            "cell_type": "code",
            "execution_count": 185,
            "metadata": {},
            "outputs": [
                {
                    "data": {
                        "text/plain": "0.5895411938825851"
                    },
                    "execution_count": 185,
                    "metadata": {},
                    "output_type": "execute_result"
                }
            ],
            "source": "from sklearn.metrics import jaccard_similarity_score\njaccard_similarity_score(y_test, yhat_svm_linear)"
        },
        {
            "cell_type": "markdown",
            "metadata": {},
            "source": "## decision tree"
        },
        {
            "cell_type": "code",
            "execution_count": 139,
            "metadata": {},
            "outputs": [
                {
                    "data": {
                        "text/plain": "DecisionTreeClassifier(class_weight=None, criterion='entropy', max_depth=4,\n            max_features=None, max_leaf_nodes=None,\n            min_impurity_decrease=0.0, min_impurity_split=None,\n            min_samples_leaf=1, min_samples_split=2,\n            min_weight_fraction_leaf=0.0, presort=False, random_state=None,\n            splitter='best')"
                    },
                    "execution_count": 139,
                    "metadata": {},
                    "output_type": "execute_result"
                }
            ],
            "source": "from sklearn.tree import DecisionTreeClassifier\nSeverityTree = DecisionTreeClassifier(criterion=\"entropy\", max_depth = 4)\nSeverityTree # it shows the default parameters"
        },
        {
            "cell_type": "code",
            "execution_count": 141,
            "metadata": {},
            "outputs": [
                {
                    "data": {
                        "text/plain": "DecisionTreeClassifier(class_weight=None, criterion='entropy', max_depth=4,\n            max_features=None, max_leaf_nodes=None,\n            min_impurity_decrease=0.0, min_impurity_split=None,\n            min_samples_leaf=1, min_samples_split=2,\n            min_weight_fraction_leaf=0.0, presort=False, random_state=None,\n            splitter='best')"
                    },
                    "execution_count": 141,
                    "metadata": {},
                    "output_type": "execute_result"
                }
            ],
            "source": "SeverityTree.fit(X_train,y_train)"
        },
        {
            "cell_type": "code",
            "execution_count": 143,
            "metadata": {},
            "outputs": [],
            "source": "predTree = SeverityTree.predict(X_test)"
        },
        {
            "cell_type": "code",
            "execution_count": 144,
            "metadata": {},
            "outputs": [
                {
                    "name": "stdout",
                    "output_type": "stream",
                    "text": "DecisionTrees's Accuracy:  0.5894963447997489\n"
                }
            ],
            "source": "from sklearn import metrics\nimport matplotlib.pyplot as plt\nprint(\"DecisionTrees's Accuracy: \", metrics.accuracy_score(y_test, predTree))"
        },
        {
            "cell_type": "markdown",
            "metadata": {},
            "source": "### KNN "
        },
        {
            "cell_type": "code",
            "execution_count": 186,
            "metadata": {},
            "outputs": [],
            "source": "from sklearn.neighbors import KNeighborsClassifier\nfrom sklearn import preprocessing"
        },
        {
            "cell_type": "code",
            "execution_count": 187,
            "metadata": {},
            "outputs": [
                {
                    "name": "stderr",
                    "output_type": "stream",
                    "text": "/opt/conda/envs/Python36/lib/python3.6/site-packages/sklearn/utils/validation.py:595: DataConversionWarning: Data with input dtype object was converted to float64 by StandardScaler.\n  warnings.warn(msg, DataConversionWarning)\n"
                },
                {
                    "data": {
                        "text/plain": "array([[-0.8 ,  1.04, -0.71, -0.63,  0.59],\n       [-0.8 ,  1.04, -0.71, -0.63,  0.59],\n       [ 1.24, -1.13, -0.71, -0.63,  0.59],\n       [ 1.24, -1.13, -0.71, -0.63,  0.59],\n       [-0.8 ,  0.32,  1.68,  1.61,  0.59]])"
                    },
                    "execution_count": 187,
                    "metadata": {},
                    "output_type": "execute_result"
                }
            ],
            "source": "X = preprocessing.StandardScaler().fit(X_svm).transform(X_svm.astype(float))\nX[0:5]"
        },
        {
            "cell_type": "code",
            "execution_count": 188,
            "metadata": {},
            "outputs": [
                {
                    "name": "stdout",
                    "output_type": "stream",
                    "text": "Train set: (89188, 5) (89188,)\nTest set: (22297, 5) (22297,)\n"
                }
            ],
            "source": "from sklearn.model_selection import train_test_split\nX_train_trfr, X_test_trfr, y_train_trfr, y_test_trfr = train_test_split( X, y_svm, test_size=0.2, random_state=4)\nprint ('Train set:', X_train_trfr.shape,  y_train_trfr.shape)\nprint ('Test set:', X_test_trfr.shape,  y_test_trfr.shape)"
        },
        {
            "cell_type": "code",
            "execution_count": 189,
            "metadata": {},
            "outputs": [
                {
                    "data": {
                        "text/plain": "KNeighborsClassifier(algorithm='auto', leaf_size=30, metric='minkowski',\n           metric_params=None, n_jobs=None, n_neighbors=4, p=2,\n           weights='uniform')"
                    },
                    "execution_count": 189,
                    "metadata": {},
                    "output_type": "execute_result"
                }
            ],
            "source": "k = 4\n#Train Model and Predict  \nneigh = KNeighborsClassifier(n_neighbors = k).fit(X_train_trfr,y_train_trfr)\nneigh"
        },
        {
            "cell_type": "code",
            "execution_count": 190,
            "metadata": {},
            "outputs": [
                {
                    "data": {
                        "text/plain": "array([2, 2, 1, 2, 2])"
                    },
                    "execution_count": 190,
                    "metadata": {},
                    "output_type": "execute_result"
                }
            ],
            "source": "yhat_knn = neigh.predict(X_test_trfr)\nyhat_knn[0:5]"
        },
        {
            "cell_type": "code",
            "execution_count": 191,
            "metadata": {},
            "outputs": [
                {
                    "name": "stdout",
                    "output_type": "stream",
                    "text": "Train set Accuracy:  0.565176929631789\nTest set Accuracy:  0.5678342377898372\n0.5662552317681372\n0.5678342377898372\n"
                }
            ],
            "source": "from sklearn import metrics\nprint(\"Train set Accuracy: \", metrics.accuracy_score(y_train_trfr, neigh.predict(X_train_trfr)))\nprint(\"Test set Accuracy: \", metrics.accuracy_score(y_test_trfr, yhat_knn))\n\nprint(f1_score(y_test_trfr, yhat_knn, average='weighted'))\nprint(jaccard_similarity_score(y_test_trfr, yhat_knn))"
        },
        {
            "cell_type": "markdown",
            "metadata": {},
            "source": "## Logistic Regression"
        },
        {
            "cell_type": "code",
            "execution_count": 192,
            "metadata": {},
            "outputs": [
                {
                    "data": {
                        "text/plain": "LogisticRegression(C=0.01, class_weight=None, dual=False, fit_intercept=True,\n          intercept_scaling=1, max_iter=100, multi_class='warn',\n          n_jobs=None, penalty='l2', random_state=None, solver='liblinear',\n          tol=0.0001, verbose=0, warm_start=False)"
                    },
                    "execution_count": 192,
                    "metadata": {},
                    "output_type": "execute_result"
                }
            ],
            "source": "from sklearn.linear_model import LogisticRegression\nfrom sklearn.metrics import confusion_matrix\nLR = LogisticRegression(C=0.01, solver='liblinear').fit(X_train_trfr,y_train_trfr)\nLR"
        },
        {
            "cell_type": "code",
            "execution_count": 193,
            "metadata": {},
            "outputs": [
                {
                    "data": {
                        "text/plain": "array([2, 2, 1, ..., 1, 1, 1])"
                    },
                    "execution_count": 193,
                    "metadata": {},
                    "output_type": "execute_result"
                }
            ],
            "source": "yhat = LR.predict(X_test_trfr)\nyhat"
        },
        {
            "cell_type": "code",
            "execution_count": 194,
            "metadata": {},
            "outputs": [
                {
                    "data": {
                        "text/plain": "array([[0.42, 0.58],\n       [0.39, 0.61],\n       [0.58, 0.42],\n       ...,\n       [0.59, 0.41],\n       [0.5 , 0.5 ],\n       [0.61, 0.39]])"
                    },
                    "execution_count": 194,
                    "metadata": {},
                    "output_type": "execute_result"
                }
            ],
            "source": "yhat_prob = LR.predict_proba(X_test_trfr)\nyhat_prob"
        },
        {
            "cell_type": "code",
            "execution_count": 195,
            "metadata": {},
            "outputs": [
                {
                    "name": "stdout",
                    "output_type": "stream",
                    "text": "0.5888236085572051\n0.5871790636935581\n"
                }
            ],
            "source": "from sklearn.metrics import jaccard_similarity_score\nprint(jaccard_similarity_score(y_test_trfr, yhat))\nprint(f1_score(y_test_trfr, yhat, average='weighted'))"
        },
        {
            "cell_type": "code",
            "execution_count": 162,
            "metadata": {},
            "outputs": [
                {
                    "name": "stdout",
                    "output_type": "stream",
                    "text": "Confusion matrix, without normalization\n[[7259 3871]\n [5297 5870]]\n"
                },
                {
                    "data": {
                        "image/png": "[encoded data removed]",
                        "text/plain": "<Figure size 432x288 with 2 Axes>"
                    },
                    "metadata": {
                        "needs_background": "light"
                    },
                    "output_type": "display_data"
                }
            ],
            "source": "# Compute confusion matrix\ncnf_matrix = confusion_matrix(y_test_trfr, yhat, labels=[1,2])\nnp.set_printoptions(precision=2)\n\n\n# Plot non-normalized confusion matrix\nplt.figure()\nplot_confusion_matrix(cnf_matrix, classes=['severity=1','severity=2'],normalize= False,  title='Confusion matrix')"
        },
        {
            "cell_type": "code",
            "execution_count": 163,
            "metadata": {},
            "outputs": [
                {
                    "name": "stdout",
                    "output_type": "stream",
                    "text": "              precision    recall  f1-score   support\n\n           1       0.58      0.65      0.61     11130\n           2       0.60      0.53      0.56     11167\n\n   micro avg       0.59      0.59      0.59     22297\n   macro avg       0.59      0.59      0.59     22297\nweighted avg       0.59      0.59      0.59     22297\n\n"
                }
            ],
            "source": "print (classification_report(y_test_trfr, yhat))\n"
        },
        {
            "cell_type": "code",
            "execution_count": 164,
            "metadata": {},
            "outputs": [
                {
                    "data": {
                        "text/plain": "0.673817823166394"
                    },
                    "execution_count": 164,
                    "metadata": {},
                    "output_type": "execute_result"
                }
            ],
            "source": "from sklearn.metrics import log_loss\nlog_loss(y_test_trfr, yhat_prob)"
        },
        {
            "cell_type": "markdown",
            "metadata": {},
            "source": "### Gradient Boosting Classifier"
        },
        {
            "cell_type": "code",
            "execution_count": 183,
            "metadata": {},
            "outputs": [
                {
                    "name": "stdout",
                    "output_type": "stream",
                    "text": "              precision    recall  f1-score   support\n\n           1       0.58      0.67      0.62     11130\n           2       0.61      0.51      0.55     11167\n\n   micro avg       0.59      0.59      0.59     22297\n   macro avg       0.59      0.59      0.59     22297\nweighted avg       0.59      0.59      0.59     22297\n\n0.5908418172848365\n0.5879675398929578\n0.5908418172848365\n"
                }
            ],
            "source": "\nfrom sklearn.ensemble import GradientBoostingClassifier\nfrom sklearn.metrics import accuracy_score\ngbc = GradientBoostingClassifier(loss=\"deviance\", learning_rate=0.1, \n      n_estimators=100, subsample=1.0, criterion=\"friedman_mse\", \n      min_samples_split=2, min_samples_leaf=1, min_weight_fraction_leaf=0.0, \n      max_depth=3, min_impurity_decrease=0.0, min_impurity_split=None, init=None, \n      random_state=None, max_features=None, verbose=0, max_leaf_nodes=None, warm_start=False, \n      presort=\"auto\")\n\ny_pred = gbc.fit(X_train, y_train.values.ravel()).predict(X_test)\nprint(format(classification_report(y_test, y_pred)))\nprint(accuracy_score(y_test, y_pred))\n\nprint(f1_score(y_test, y_pred, average='weighted'))\nprint(jaccard_similarity_score(y_test, y_pred))"
        },
        {
            "cell_type": "markdown",
            "metadata": {},
            "source": "### XG Boost "
        },
        {
            "cell_type": "code",
            "execution_count": 181,
            "metadata": {},
            "outputs": [
                {
                    "name": "stdout",
                    "output_type": "stream",
                    "text": "Accuracy: 0.5017266896891959\n"
                }
            ],
            "source": "from xgboost import XGBClassifier\nmodel = XGBClassifier(learning_rate =0.07, n_estimators=300,\n                      class_weight=\"balanced_subsample\",\n                      max_depth=8, min_child_weight=1,\n                      scale_pos_weight=7,\n                      seed=27,subsample=0.8,colsample_bytree=0.8)\n\nmodel.fit(X_train,y_train)\n\ny_pred=model.predict(X_test)\n\nprint(\"Accuracy:\",metrics.accuracy_score(y_test, y_pred))"
        },
        {
            "cell_type": "code",
            "execution_count": 182,
            "metadata": {},
            "outputs": [
                {
                    "name": "stdout",
                    "output_type": "stream",
                    "text": "[[   30 11100]\n [   10 11157]]\n              precision    recall  f1-score   support\n\n           1       0.75      0.00      0.01     11130\n           2       0.50      1.00      0.67     11167\n\n   micro avg       0.50      0.50      0.50     22297\n   macro avg       0.63      0.50      0.34     22297\nweighted avg       0.63      0.50      0.34     22297\n\n0.3370372835401985\n0.5017266896891959\n"
                }
            ],
            "source": "print(confusion_matrix(y_test, y_pred))  \nprint(classification_report(y_test, y_pred))\n\nprint(f1_score(y_test, y_pred, average='weighted'))\nprint(jaccard_similarity_score(y_test, y_pred))"
        },
        {
            "cell_type": "markdown",
            "metadata": {},
            "source": "### Random Forest Classifier"
        },
        {
            "cell_type": "code",
            "execution_count": 180,
            "metadata": {},
            "outputs": [
                {
                    "name": "stdout",
                    "output_type": "stream",
                    "text": "Accuracy: 0.5929497241781405\n[[6773 4357]\n [4719 6448]]\n              precision    recall  f1-score   support\n\n           1       0.59      0.61      0.60     11130\n           2       0.60      0.58      0.59     11167\n\n   micro avg       0.59      0.59      0.59     22297\n   macro avg       0.59      0.59      0.59     22297\nweighted avg       0.59      0.59      0.59     22297\n\n0.5928533769119024\n0.5929497241781405\n"
                }
            ],
            "source": "from sklearn.ensemble import RandomForestClassifier\n\nrdf = RandomForestClassifier(n_estimators=300,random_state=35)\n\nrdf.fit(X_train,y_train)\n\ny_pred=rdf.predict(X_test)\n\n#Import scikit-learn metrics module for accuracy calculation\nfrom sklearn import metrics\n# Model Accuracy, how often is the classifier correct?\nprint(\"Accuracy:\",metrics.accuracy_score(y_test, y_pred))\n\nfrom sklearn import metrics\nfrom sklearn.metrics import classification_report, confusion_matrix  \nprint(confusion_matrix(y_test, y_pred))  \nprint(classification_report(y_test, y_pred))\n\nprint(f1_score(y_test, y_pred, average='weighted'))\nprint(jaccard_similarity_score(y_test, y_pred))"
        },
        {
            "cell_type": "code",
            "execution_count": 177,
            "metadata": {},
            "outputs": [],
            "source": "from sklearn.ensemble import RandomForestClassifier\n#class_weight = dict({2:1, 1:15, 0:50})\nrdf = RandomForestClassifier(bootstrap=True,\n            class_weight=\"balanced_subsample\", \n            criterion='gini',\n            max_depth=8, max_features='auto', max_leaf_nodes=None,\n            min_impurity_decrease=0.0, min_impurity_split=None,\n            min_samples_leaf=4, min_samples_split=10,\n            min_weight_fraction_leaf=0.0, n_estimators=300,\n            oob_score=True,\n            random_state=35,\n            verbose=0, warm_start=False)"
        },
        {
            "cell_type": "code",
            "execution_count": 179,
            "metadata": {},
            "outputs": [
                {
                    "name": "stdout",
                    "output_type": "stream",
                    "text": "Accuracy: 0.5903484773736377\n[[7509 3621]\n [5513 5654]]\n              precision    recall  f1-score   support\n\n           1       0.58      0.67      0.62     11130\n           2       0.61      0.51      0.55     11167\n\n   micro avg       0.59      0.59      0.59     22297\n   macro avg       0.59      0.59      0.59     22297\nweighted avg       0.59      0.59      0.59     22297\n\n0.5874363984878871\n0.5903484773736377\n"
                }
            ],
            "source": "rdf.fit(X_train,y_train)\n\ny_pred=rdf.predict(X_test)\n\n# Model Accuracy, how often is the classifier correct?\nprint(\"Accuracy:\",metrics.accuracy_score(y_test, y_pred))\n\nprint(confusion_matrix(y_test, y_pred))  \nprint(classification_report(y_test, y_pred))\n\nprint(f1_score(y_test, y_pred, average='weighted'))\nprint(jaccard_similarity_score(y_test, y_pred))"
        },
        {
            "cell_type": "markdown",
            "metadata": {},
            "source": "### GaussianNB"
        },
        {
            "cell_type": "code",
            "execution_count": 172,
            "metadata": {},
            "outputs": [
                {
                    "name": "stdout",
                    "output_type": "stream",
                    "text": "0.5894963447997489\n              precision    recall  f1-score   support\n\n           1       0.57      0.70      0.63     11130\n           2       0.61      0.48      0.54     11167\n\n   micro avg       0.59      0.59      0.59     22297\n   macro avg       0.59      0.59      0.58     22297\nweighted avg       0.59      0.59      0.58     22297\n\n"
                }
            ],
            "source": "from sklearn.naive_bayes import GaussianNB\nfrom sklearn.metrics import accuracy_score\ngnb = GaussianNB()\ny_pred = gnb.fit(X_train, y_train).predict(X_test)\nprint(accuracy_score(y_test, y_pred))\nconfusion_matrix(y_test, y_pred)\nprint(format(classification_report(y_test, y_pred)))"
        },
        {
            "cell_type": "code",
            "execution_count": 174,
            "metadata": {},
            "outputs": [
                {
                    "data": {
                        "text/plain": "0.5848125737594213"
                    },
                    "execution_count": 174,
                    "metadata": {},
                    "output_type": "execute_result"
                }
            ],
            "source": "f1_score(y_test, y_pred, average='weighted')"
        },
        {
            "cell_type": "code",
            "execution_count": 175,
            "metadata": {},
            "outputs": [
                {
                    "data": {
                        "text/plain": "0.5894963447997489"
                    },
                    "execution_count": 175,
                    "metadata": {},
                    "output_type": "execute_result"
                }
            ],
            "source": "jaccard_similarity_score(y_test, y_pred)"
        },
        {
            "cell_type": "code",
            "execution_count": null,
            "metadata": {},
            "outputs": [],
            "source": ""
        }
    ],
    "metadata": {
        "kernelspec": {
            "display_name": "Python 3.6",
            "language": "python",
            "name": "python3"
        },
        "language_info": {
            "codemirror_mode": {
                "name": "ipython",
                "version": 3
            },
            "file_extension": ".py",
            "mimetype": "text/x-python",
            "name": "python",
            "nbconvert_exporter": "python",
            "pygments_lexer": "ipython3",
            "version": "3.6.9"
        }
    },
    "nbformat": 4,
    "nbformat_minor": 1
}